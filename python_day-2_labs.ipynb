{
 "cells": [
  {
   "cell_type": "markdown",
   "id": "e8f190bf",
   "metadata": {},
   "source": [
    "# Lab-2\n",
    "<b>Operations on Arrays</b>"
   ]
  },
  {
   "cell_type": "code",
   "execution_count": 26,
   "id": "4a7013b4",
   "metadata": {},
   "outputs": [],
   "source": [
    "import numpy as np\n",
    "import pandas as pd"
   ]
  },
  {
   "cell_type": "code",
   "execution_count": 38,
   "id": "69951e0e",
   "metadata": {},
   "outputs": [
    {
     "data": {
      "text/html": [
       "<div>\n",
       "<style scoped>\n",
       "    .dataframe tbody tr th:only-of-type {\n",
       "        vertical-align: middle;\n",
       "    }\n",
       "\n",
       "    .dataframe tbody tr th {\n",
       "        vertical-align: top;\n",
       "    }\n",
       "\n",
       "    .dataframe thead th {\n",
       "        text-align: right;\n",
       "    }\n",
       "</style>\n",
       "<table border=\"1\" class=\"dataframe\">\n",
       "  <thead>\n",
       "    <tr style=\"text-align: right;\">\n",
       "      <th></th>\n",
       "      <th>Date</th>\n",
       "      <th>Open</th>\n",
       "      <th>High</th>\n",
       "      <th>Low</th>\n",
       "      <th>Close</th>\n",
       "      <th>Adj Close</th>\n",
       "      <th>Volume</th>\n",
       "    </tr>\n",
       "  </thead>\n",
       "  <tbody>\n",
       "    <tr>\n",
       "      <th>0</th>\n",
       "      <td>2016-01-04</td>\n",
       "      <td>102.610001</td>\n",
       "      <td>105.370003</td>\n",
       "      <td>102.000000</td>\n",
       "      <td>105.349998</td>\n",
       "      <td>100.274513</td>\n",
       "      <td>67649400</td>\n",
       "    </tr>\n",
       "    <tr>\n",
       "      <th>1</th>\n",
       "      <td>2016-01-05</td>\n",
       "      <td>105.750000</td>\n",
       "      <td>105.849998</td>\n",
       "      <td>102.410004</td>\n",
       "      <td>102.709999</td>\n",
       "      <td>97.761681</td>\n",
       "      <td>55791000</td>\n",
       "    </tr>\n",
       "    <tr>\n",
       "      <th>2</th>\n",
       "      <td>2016-01-06</td>\n",
       "      <td>100.559998</td>\n",
       "      <td>102.370003</td>\n",
       "      <td>99.870003</td>\n",
       "      <td>100.699997</td>\n",
       "      <td>95.848511</td>\n",
       "      <td>68457400</td>\n",
       "    </tr>\n",
       "    <tr>\n",
       "      <th>3</th>\n",
       "      <td>2016-01-07</td>\n",
       "      <td>98.680000</td>\n",
       "      <td>100.129997</td>\n",
       "      <td>96.430000</td>\n",
       "      <td>96.449997</td>\n",
       "      <td>91.803276</td>\n",
       "      <td>81094400</td>\n",
       "    </tr>\n",
       "    <tr>\n",
       "      <th>4</th>\n",
       "      <td>2016-01-08</td>\n",
       "      <td>98.550003</td>\n",
       "      <td>99.110001</td>\n",
       "      <td>96.760002</td>\n",
       "      <td>96.959999</td>\n",
       "      <td>92.288696</td>\n",
       "      <td>70798000</td>\n",
       "    </tr>\n",
       "  </tbody>\n",
       "</table>\n",
       "</div>"
      ],
      "text/plain": [
       "         Date        Open        High         Low       Close   Adj Close  \\\n",
       "0  2016-01-04  102.610001  105.370003  102.000000  105.349998  100.274513   \n",
       "1  2016-01-05  105.750000  105.849998  102.410004  102.709999   97.761681   \n",
       "2  2016-01-06  100.559998  102.370003   99.870003  100.699997   95.848511   \n",
       "3  2016-01-07   98.680000  100.129997   96.430000   96.449997   91.803276   \n",
       "4  2016-01-08   98.550003   99.110001   96.760002   96.959999   92.288696   \n",
       "\n",
       "     Volume  \n",
       "0  67649400  \n",
       "1  55791000  \n",
       "2  68457400  \n",
       "3  81094400  \n",
       "4  70798000  "
      ]
     },
     "execution_count": 38,
     "metadata": {},
     "output_type": "execute_result"
    }
   ],
   "source": [
    "# setup\n",
    "apple_stocks_16 =pd.read_csv('AAPL-2016.csv')\n",
    "apple_stocks_17 =pd.read_csv('AAPL-2017.csv')\n",
    "apple_stocks_17_trimmed=apple_stocks_17.drop(apple_stocks_17.shape[0]-1)\n",
    "apple_stocks_16.head()"
   ]
  },
  {
   "cell_type": "code",
   "execution_count": 61,
   "id": "eae017bd",
   "metadata": {},
   "outputs": [
    {
     "name": "stdout",
     "output_type": "stream",
     "text": [
      "2016: 9634995700\n",
      "2017: 6784541800\n",
      "2850453900\n"
     ]
    }
   ],
   "source": [
    "# 1\n",
    "arr_volume_16=np.array(apple_stocks_16['Volume'])\n",
    "arr_volume_17=np.array(apple_stocks_17_trimmed['Volume'])\n",
    "sum_16=arr_volume_16.sum(axis=0)\n",
    "sum_17=arr_volume_17.sum(axis=0)\n",
    "diff=abs(sum_16-sum_17)\n",
    "print(f\"2016: {sum_16}\")\n",
    "print(f\"2017: {sum_17}\")\n",
    "print(diff)"
   ]
  },
  {
   "cell_type": "code",
   "execution_count": 66,
   "id": "8ffb2bbe",
   "metadata": {},
   "outputs": [
    {
     "name": "stdout",
     "output_type": "stream",
     "text": [
      "2850453900\n"
     ]
    }
   ],
   "source": [
    "# 2\n",
    "change=arr_volume_16-arr_volume_17\n",
    "print(change.sum(axis=0))"
   ]
  },
  {
   "cell_type": "code",
   "execution_count": 74,
   "id": "927d72fe",
   "metadata": {},
   "outputs": [
    {
     "name": "stdout",
     "output_type": "stream",
     "text": [
      "[ 102.00  102.41  99.87  96.43  96.76  97.34  98.84  97.30  95.74  95.36\n",
      "  95.50  93.42  94.94  98.37  99.21  98.07  93.34  92.39  94.35  95.40\n",
      "  94.28  94.08  95.19  93.69  93.04  93.93  94.10  92.59  93.01  94.61\n",
      "  96.15  96.09  95.80  95.92  94.55  93.32  95.25  96.58  96.65  97.42\n",
      "  99.64  100.45  101.37  100.96  100.40  100.27  100.15  101.50  101.78\n",
      "  103.85  104.59  104.96  105.19  105.14  105.21  105.90  104.89  105.06\n",
      "  104.88  108.60  108.88  108.20  110.27  109.42  109.20  108.12  108.17\n",
      "  108.83  108.66  110.80  111.33  109.73  106.94  106.23  106.06  105.52\n",
      "  104.62  104.51  103.91  95.68  94.25  92.51  92.40  93.68  93.82  92.68\n",
      "  91.85  92.59  92.11  92.46  89.47  90.00  91.65  93.01  93.89  93.57\n",
      "  94.52  95.67  96.84  98.11  98.64  99.25  98.82  98.33  96.63  97.45\n",
      "  97.55  98.96  98.68  98.46  98.48  97.10  96.75  97.03  96.07  95.30\n",
      "  95.03  94.68  95.35  95.25  92.65  91.50  92.14  93.63  94.30  95.33\n",
      "  94.46  94.37  95.62  96.05  96.73  97.12  96.84  97.32  98.50  98.60\n",
      "  99.34  99.74  99.13  98.31  96.92  96.42  102.75  102.82  103.68  104.41\n",
      "  104.00  104.77  105.28  106.18  107.16  108.01  107.76  107.85  107.78\n",
      "  108.08  109.21  108.34  109.02  108.36  107.85  108.53  107.68  106.68\n",
      "  106.31  106.29  105.50  105.64  105.62  106.82  107.51  107.07  105.24\n",
      "  103.13  102.53  107.24  108.60  113.49  114.04  113.25  112.51  112.44\n",
      "  114.00  111.55  111.55  112.34  113.43  111.80  111.80  112.28  112.63\n",
      "  112.69  113.13  113.51  114.72  116.20  116.75  115.72  117.13  116.78\n",
      "  117.45  113.80  116.33  116.28  117.00  117.31  113.31  114.10  113.45\n",
      "  113.20  110.53  111.23  109.55  108.11  109.46  109.70  108.05  105.83\n",
      "  106.55  104.08  106.16  106.60  108.83  109.66  110.01  111.40  110.33\n",
      "  110.95  111.39  110.07  110.27  109.03  108.85  108.25  109.19  109.16\n",
      "  110.60  112.31  112.49  113.75  114.98  115.23  115.65  115.75  116.68\n",
      "  116.78  115.64  115.59  116.49  116.20]\n"
     ]
    }
   ],
   "source": [
    "# 3\n",
    "np.set_printoptions(formatter={'float': '{: 6.2f}'.format})\n",
    "print(np.array(apple_stocks_16['Low']))"
   ]
  },
  {
   "cell_type": "code",
   "execution_count": 80,
   "id": "49af1995",
   "metadata": {},
   "outputs": [
    {
     "data": {
      "text/html": [
       "<div>\n",
       "<style scoped>\n",
       "    .dataframe tbody tr th:only-of-type {\n",
       "        vertical-align: middle;\n",
       "    }\n",
       "\n",
       "    .dataframe tbody tr th {\n",
       "        vertical-align: top;\n",
       "    }\n",
       "\n",
       "    .dataframe thead th {\n",
       "        text-align: right;\n",
       "    }\n",
       "</style>\n",
       "<table border=\"1\" class=\"dataframe\">\n",
       "  <thead>\n",
       "    <tr style=\"text-align: right;\">\n",
       "      <th></th>\n",
       "      <th>Date</th>\n",
       "      <th>Open</th>\n",
       "      <th>High</th>\n",
       "      <th>Low</th>\n",
       "      <th>Close</th>\n",
       "      <th>Adj Close</th>\n",
       "      <th>Volume</th>\n",
       "    </tr>\n",
       "  </thead>\n",
       "  <tbody>\n",
       "    <tr>\n",
       "      <th>0</th>\n",
       "      <td>2016-01-04</td>\n",
       "      <td>102.610001</td>\n",
       "      <td>105.370003</td>\n",
       "      <td>102.000000</td>\n",
       "      <td>105.349998</td>\n",
       "      <td>100.274513</td>\n",
       "      <td>67649400</td>\n",
       "    </tr>\n",
       "    <tr>\n",
       "      <th>1</th>\n",
       "      <td>2016-01-05</td>\n",
       "      <td>105.750000</td>\n",
       "      <td>105.849998</td>\n",
       "      <td>102.410004</td>\n",
       "      <td>102.709999</td>\n",
       "      <td>97.761681</td>\n",
       "      <td>55791000</td>\n",
       "    </tr>\n",
       "    <tr>\n",
       "      <th>2</th>\n",
       "      <td>2016-01-06</td>\n",
       "      <td>100.559998</td>\n",
       "      <td>102.370003</td>\n",
       "      <td>99.870003</td>\n",
       "      <td>100.699997</td>\n",
       "      <td>95.848511</td>\n",
       "      <td>68457400</td>\n",
       "    </tr>\n",
       "    <tr>\n",
       "      <th>3</th>\n",
       "      <td>2016-01-07</td>\n",
       "      <td>98.680000</td>\n",
       "      <td>100.129997</td>\n",
       "      <td>96.430000</td>\n",
       "      <td>96.449997</td>\n",
       "      <td>91.803276</td>\n",
       "      <td>81094400</td>\n",
       "    </tr>\n",
       "    <tr>\n",
       "      <th>4</th>\n",
       "      <td>2016-01-08</td>\n",
       "      <td>98.550003</td>\n",
       "      <td>99.110001</td>\n",
       "      <td>96.760002</td>\n",
       "      <td>96.959999</td>\n",
       "      <td>92.288696</td>\n",
       "      <td>70798000</td>\n",
       "    </tr>\n",
       "    <tr>\n",
       "      <th>...</th>\n",
       "      <td>...</td>\n",
       "      <td>...</td>\n",
       "      <td>...</td>\n",
       "      <td>...</td>\n",
       "      <td>...</td>\n",
       "      <td>...</td>\n",
       "      <td>...</td>\n",
       "    </tr>\n",
       "    <tr>\n",
       "      <th>245</th>\n",
       "      <td>2017-12-21</td>\n",
       "      <td>174.169998</td>\n",
       "      <td>176.020004</td>\n",
       "      <td>174.100006</td>\n",
       "      <td>175.009995</td>\n",
       "      <td>173.023026</td>\n",
       "      <td>20949900</td>\n",
       "    </tr>\n",
       "    <tr>\n",
       "      <th>246</th>\n",
       "      <td>2017-12-22</td>\n",
       "      <td>174.679993</td>\n",
       "      <td>175.419998</td>\n",
       "      <td>174.500000</td>\n",
       "      <td>175.009995</td>\n",
       "      <td>173.023026</td>\n",
       "      <td>16114600</td>\n",
       "    </tr>\n",
       "    <tr>\n",
       "      <th>247</th>\n",
       "      <td>2017-12-26</td>\n",
       "      <td>170.800003</td>\n",
       "      <td>171.470001</td>\n",
       "      <td>169.679993</td>\n",
       "      <td>170.570007</td>\n",
       "      <td>168.633423</td>\n",
       "      <td>33185500</td>\n",
       "    </tr>\n",
       "    <tr>\n",
       "      <th>248</th>\n",
       "      <td>2017-12-27</td>\n",
       "      <td>170.100006</td>\n",
       "      <td>170.779999</td>\n",
       "      <td>169.710007</td>\n",
       "      <td>170.600006</td>\n",
       "      <td>168.663101</td>\n",
       "      <td>21498200</td>\n",
       "    </tr>\n",
       "    <tr>\n",
       "      <th>249</th>\n",
       "      <td>2017-12-28</td>\n",
       "      <td>171.000000</td>\n",
       "      <td>171.850006</td>\n",
       "      <td>170.479996</td>\n",
       "      <td>171.080002</td>\n",
       "      <td>169.137650</td>\n",
       "      <td>16480200</td>\n",
       "    </tr>\n",
       "  </tbody>\n",
       "</table>\n",
       "<p>500 rows × 7 columns</p>\n",
       "</div>"
      ],
      "text/plain": [
       "           Date        Open        High         Low       Close   Adj Close  \\\n",
       "0    2016-01-04  102.610001  105.370003  102.000000  105.349998  100.274513   \n",
       "1    2016-01-05  105.750000  105.849998  102.410004  102.709999   97.761681   \n",
       "2    2016-01-06  100.559998  102.370003   99.870003  100.699997   95.848511   \n",
       "3    2016-01-07   98.680000  100.129997   96.430000   96.449997   91.803276   \n",
       "4    2016-01-08   98.550003   99.110001   96.760002   96.959999   92.288696   \n",
       "..          ...         ...         ...         ...         ...         ...   \n",
       "245  2017-12-21  174.169998  176.020004  174.100006  175.009995  173.023026   \n",
       "246  2017-12-22  174.679993  175.419998  174.500000  175.009995  173.023026   \n",
       "247  2017-12-26  170.800003  171.470001  169.679993  170.570007  168.633423   \n",
       "248  2017-12-27  170.100006  170.779999  169.710007  170.600006  168.663101   \n",
       "249  2017-12-28  171.000000  171.850006  170.479996  171.080002  169.137650   \n",
       "\n",
       "       Volume  \n",
       "0    67649400  \n",
       "1    55791000  \n",
       "2    68457400  \n",
       "3    81094400  \n",
       "4    70798000  \n",
       "..        ...  \n",
       "245  20949900  \n",
       "246  16114600  \n",
       "247  33185500  \n",
       "248  21498200  \n",
       "249  16480200  \n",
       "\n",
       "[500 rows x 7 columns]"
      ]
     },
     "execution_count": 80,
     "metadata": {},
     "output_type": "execute_result"
    }
   ],
   "source": [
    "# 4\n",
    "combined_years=pd.concat([apple_stocks_16,apple_stocks_17_trimmed])\n",
    "combined_years"
   ]
  },
  {
   "cell_type": "code",
   "execution_count": 86,
   "id": "8c13a242",
   "metadata": {},
   "outputs": [],
   "source": [
    "# 5\n",
    "combined_years.to_csv('APPL-2016-2017.csv',sep=',',index=False,float_format=\"{0:10.2f}\".format)\n",
    "    "
   ]
  },
  {
   "cell_type": "markdown",
   "id": "fa323a75",
   "metadata": {},
   "source": [
    "# <b>Numpy Array Indexing and Slicing</b>"
   ]
  },
  {
   "cell_type": "code",
   "execution_count": 43,
   "id": "4c922f3d",
   "metadata": {},
   "outputs": [
    {
     "data": {
      "text/html": [
       "<div>\n",
       "<style scoped>\n",
       "    .dataframe tbody tr th:only-of-type {\n",
       "        vertical-align: middle;\n",
       "    }\n",
       "\n",
       "    .dataframe tbody tr th {\n",
       "        vertical-align: top;\n",
       "    }\n",
       "\n",
       "    .dataframe thead th {\n",
       "        text-align: right;\n",
       "    }\n",
       "</style>\n",
       "<table border=\"1\" class=\"dataframe\">\n",
       "  <thead>\n",
       "    <tr style=\"text-align: right;\">\n",
       "      <th></th>\n",
       "      <th>Open</th>\n",
       "      <th>High</th>\n",
       "      <th>Low</th>\n",
       "      <th>Close</th>\n",
       "      <th>Adj Close</th>\n",
       "      <th>Volume</th>\n",
       "    </tr>\n",
       "    <tr>\n",
       "      <th>Date</th>\n",
       "      <th></th>\n",
       "      <th></th>\n",
       "      <th></th>\n",
       "      <th></th>\n",
       "      <th></th>\n",
       "      <th></th>\n",
       "    </tr>\n",
       "  </thead>\n",
       "  <tbody>\n",
       "    <tr>\n",
       "      <th>2016-01-04</th>\n",
       "      <td>102.61</td>\n",
       "      <td>105.37</td>\n",
       "      <td>102.00</td>\n",
       "      <td>105.35</td>\n",
       "      <td>100.27</td>\n",
       "      <td>67649400</td>\n",
       "    </tr>\n",
       "    <tr>\n",
       "      <th>2016-01-05</th>\n",
       "      <td>105.75</td>\n",
       "      <td>105.85</td>\n",
       "      <td>102.41</td>\n",
       "      <td>102.71</td>\n",
       "      <td>97.76</td>\n",
       "      <td>55791000</td>\n",
       "    </tr>\n",
       "    <tr>\n",
       "      <th>2016-01-06</th>\n",
       "      <td>100.56</td>\n",
       "      <td>102.37</td>\n",
       "      <td>99.87</td>\n",
       "      <td>100.70</td>\n",
       "      <td>95.85</td>\n",
       "      <td>68457400</td>\n",
       "    </tr>\n",
       "    <tr>\n",
       "      <th>2016-01-07</th>\n",
       "      <td>98.68</td>\n",
       "      <td>100.13</td>\n",
       "      <td>96.43</td>\n",
       "      <td>96.45</td>\n",
       "      <td>91.80</td>\n",
       "      <td>81094400</td>\n",
       "    </tr>\n",
       "    <tr>\n",
       "      <th>2016-01-08</th>\n",
       "      <td>98.55</td>\n",
       "      <td>99.11</td>\n",
       "      <td>96.76</td>\n",
       "      <td>96.96</td>\n",
       "      <td>92.29</td>\n",
       "      <td>70798000</td>\n",
       "    </tr>\n",
       "  </tbody>\n",
       "</table>\n",
       "</div>"
      ],
      "text/plain": [
       "              Open    High     Low   Close  Adj Close    Volume\n",
       "Date                                                           \n",
       "2016-01-04  102.61  105.37  102.00  105.35     100.27  67649400\n",
       "2016-01-05  105.75  105.85  102.41  102.71      97.76  55791000\n",
       "2016-01-06  100.56  102.37   99.87  100.70      95.85  68457400\n",
       "2016-01-07   98.68  100.13   96.43   96.45      91.80  81094400\n",
       "2016-01-08   98.55   99.11   96.76   96.96      92.29  70798000"
      ]
     },
     "execution_count": 43,
     "metadata": {},
     "output_type": "execute_result"
    }
   ],
   "source": [
    "date_as_index_16=pd.read_csv('APPL-2016-2017.csv',index_col='Date',parse_dates=True)\n",
    "date_as_index_16.head()"
   ]
  },
  {
   "cell_type": "code",
   "execution_count": 41,
   "id": "73e284c5",
   "metadata": {},
   "outputs": [
    {
     "data": {
      "text/html": [
       "<div>\n",
       "<style scoped>\n",
       "    .dataframe tbody tr th:only-of-type {\n",
       "        vertical-align: middle;\n",
       "    }\n",
       "\n",
       "    .dataframe tbody tr th {\n",
       "        vertical-align: top;\n",
       "    }\n",
       "\n",
       "    .dataframe thead th {\n",
       "        text-align: right;\n",
       "    }\n",
       "</style>\n",
       "<table border=\"1\" class=\"dataframe\">\n",
       "  <thead>\n",
       "    <tr style=\"text-align: right;\">\n",
       "      <th></th>\n",
       "      <th>Date</th>\n",
       "      <th>Open</th>\n",
       "      <th>High</th>\n",
       "      <th>Low</th>\n",
       "      <th>Close</th>\n",
       "      <th>Adj Close</th>\n",
       "      <th>Volume</th>\n",
       "    </tr>\n",
       "  </thead>\n",
       "  <tbody>\n",
       "    <tr>\n",
       "      <th>0</th>\n",
       "      <td>2016-01-04</td>\n",
       "      <td>102.610001</td>\n",
       "      <td>105.370003</td>\n",
       "      <td>102.000000</td>\n",
       "      <td>105.349998</td>\n",
       "      <td>100.274513</td>\n",
       "      <td>67649400</td>\n",
       "    </tr>\n",
       "    <tr>\n",
       "      <th>1</th>\n",
       "      <td>2016-01-05</td>\n",
       "      <td>105.750000</td>\n",
       "      <td>105.849998</td>\n",
       "      <td>102.410004</td>\n",
       "      <td>102.709999</td>\n",
       "      <td>97.761681</td>\n",
       "      <td>55791000</td>\n",
       "    </tr>\n",
       "    <tr>\n",
       "      <th>2</th>\n",
       "      <td>2016-01-06</td>\n",
       "      <td>100.559998</td>\n",
       "      <td>102.370003</td>\n",
       "      <td>99.870003</td>\n",
       "      <td>100.699997</td>\n",
       "      <td>95.848511</td>\n",
       "      <td>68457400</td>\n",
       "    </tr>\n",
       "    <tr>\n",
       "      <th>3</th>\n",
       "      <td>2016-01-07</td>\n",
       "      <td>98.680000</td>\n",
       "      <td>100.129997</td>\n",
       "      <td>96.430000</td>\n",
       "      <td>96.449997</td>\n",
       "      <td>91.803276</td>\n",
       "      <td>81094400</td>\n",
       "    </tr>\n",
       "    <tr>\n",
       "      <th>4</th>\n",
       "      <td>2016-01-08</td>\n",
       "      <td>98.550003</td>\n",
       "      <td>99.110001</td>\n",
       "      <td>96.760002</td>\n",
       "      <td>96.959999</td>\n",
       "      <td>92.288696</td>\n",
       "      <td>70798000</td>\n",
       "    </tr>\n",
       "    <tr>\n",
       "      <th>5</th>\n",
       "      <td>2016-01-11</td>\n",
       "      <td>98.970001</td>\n",
       "      <td>99.059998</td>\n",
       "      <td>97.339996</td>\n",
       "      <td>98.529999</td>\n",
       "      <td>93.783073</td>\n",
       "      <td>49739400</td>\n",
       "    </tr>\n",
       "    <tr>\n",
       "      <th>6</th>\n",
       "      <td>2016-01-12</td>\n",
       "      <td>100.550003</td>\n",
       "      <td>100.690002</td>\n",
       "      <td>98.839996</td>\n",
       "      <td>99.959999</td>\n",
       "      <td>95.144165</td>\n",
       "      <td>49154200</td>\n",
       "    </tr>\n",
       "    <tr>\n",
       "      <th>7</th>\n",
       "      <td>2016-01-13</td>\n",
       "      <td>100.320000</td>\n",
       "      <td>101.190002</td>\n",
       "      <td>97.300003</td>\n",
       "      <td>97.389999</td>\n",
       "      <td>92.697990</td>\n",
       "      <td>62439600</td>\n",
       "    </tr>\n",
       "    <tr>\n",
       "      <th>8</th>\n",
       "      <td>2016-01-14</td>\n",
       "      <td>97.959999</td>\n",
       "      <td>100.480003</td>\n",
       "      <td>95.739998</td>\n",
       "      <td>99.519997</td>\n",
       "      <td>94.725372</td>\n",
       "      <td>63170100</td>\n",
       "    </tr>\n",
       "    <tr>\n",
       "      <th>9</th>\n",
       "      <td>2016-01-15</td>\n",
       "      <td>96.199997</td>\n",
       "      <td>97.709999</td>\n",
       "      <td>95.360001</td>\n",
       "      <td>97.129997</td>\n",
       "      <td>92.450516</td>\n",
       "      <td>79010000</td>\n",
       "    </tr>\n",
       "    <tr>\n",
       "      <th>10</th>\n",
       "      <td>2016-01-19</td>\n",
       "      <td>98.410004</td>\n",
       "      <td>98.650002</td>\n",
       "      <td>95.500000</td>\n",
       "      <td>96.660004</td>\n",
       "      <td>92.003166</td>\n",
       "      <td>53087700</td>\n",
       "    </tr>\n",
       "    <tr>\n",
       "      <th>11</th>\n",
       "      <td>2016-01-20</td>\n",
       "      <td>95.099998</td>\n",
       "      <td>98.190002</td>\n",
       "      <td>93.419998</td>\n",
       "      <td>96.790001</td>\n",
       "      <td>92.126900</td>\n",
       "      <td>72334400</td>\n",
       "    </tr>\n",
       "    <tr>\n",
       "      <th>12</th>\n",
       "      <td>2016-01-21</td>\n",
       "      <td>97.059998</td>\n",
       "      <td>97.879997</td>\n",
       "      <td>94.940002</td>\n",
       "      <td>96.300003</td>\n",
       "      <td>91.660500</td>\n",
       "      <td>52161500</td>\n",
       "    </tr>\n",
       "    <tr>\n",
       "      <th>13</th>\n",
       "      <td>2016-01-22</td>\n",
       "      <td>98.629997</td>\n",
       "      <td>101.459999</td>\n",
       "      <td>98.370003</td>\n",
       "      <td>101.419998</td>\n",
       "      <td>96.533836</td>\n",
       "      <td>65800500</td>\n",
       "    </tr>\n",
       "    <tr>\n",
       "      <th>14</th>\n",
       "      <td>2016-01-25</td>\n",
       "      <td>101.519997</td>\n",
       "      <td>101.529999</td>\n",
       "      <td>99.209999</td>\n",
       "      <td>99.440002</td>\n",
       "      <td>94.649239</td>\n",
       "      <td>51794500</td>\n",
       "    </tr>\n",
       "    <tr>\n",
       "      <th>15</th>\n",
       "      <td>2016-01-26</td>\n",
       "      <td>99.930000</td>\n",
       "      <td>100.879997</td>\n",
       "      <td>98.070000</td>\n",
       "      <td>99.989998</td>\n",
       "      <td>95.172729</td>\n",
       "      <td>75077000</td>\n",
       "    </tr>\n",
       "    <tr>\n",
       "      <th>16</th>\n",
       "      <td>2016-01-27</td>\n",
       "      <td>96.040001</td>\n",
       "      <td>96.629997</td>\n",
       "      <td>93.339996</td>\n",
       "      <td>93.419998</td>\n",
       "      <td>88.919250</td>\n",
       "      <td>133369700</td>\n",
       "    </tr>\n",
       "    <tr>\n",
       "      <th>17</th>\n",
       "      <td>2016-01-28</td>\n",
       "      <td>93.790001</td>\n",
       "      <td>94.519997</td>\n",
       "      <td>92.389999</td>\n",
       "      <td>94.089996</td>\n",
       "      <td>89.556976</td>\n",
       "      <td>55678800</td>\n",
       "    </tr>\n",
       "    <tr>\n",
       "      <th>18</th>\n",
       "      <td>2016-01-29</td>\n",
       "      <td>94.790001</td>\n",
       "      <td>97.339996</td>\n",
       "      <td>94.349998</td>\n",
       "      <td>97.339996</td>\n",
       "      <td>92.650391</td>\n",
       "      <td>64416500</td>\n",
       "    </tr>\n",
       "  </tbody>\n",
       "</table>\n",
       "</div>"
      ],
      "text/plain": [
       "          Date        Open        High         Low       Close   Adj Close  \\\n",
       "0   2016-01-04  102.610001  105.370003  102.000000  105.349998  100.274513   \n",
       "1   2016-01-05  105.750000  105.849998  102.410004  102.709999   97.761681   \n",
       "2   2016-01-06  100.559998  102.370003   99.870003  100.699997   95.848511   \n",
       "3   2016-01-07   98.680000  100.129997   96.430000   96.449997   91.803276   \n",
       "4   2016-01-08   98.550003   99.110001   96.760002   96.959999   92.288696   \n",
       "5   2016-01-11   98.970001   99.059998   97.339996   98.529999   93.783073   \n",
       "6   2016-01-12  100.550003  100.690002   98.839996   99.959999   95.144165   \n",
       "7   2016-01-13  100.320000  101.190002   97.300003   97.389999   92.697990   \n",
       "8   2016-01-14   97.959999  100.480003   95.739998   99.519997   94.725372   \n",
       "9   2016-01-15   96.199997   97.709999   95.360001   97.129997   92.450516   \n",
       "10  2016-01-19   98.410004   98.650002   95.500000   96.660004   92.003166   \n",
       "11  2016-01-20   95.099998   98.190002   93.419998   96.790001   92.126900   \n",
       "12  2016-01-21   97.059998   97.879997   94.940002   96.300003   91.660500   \n",
       "13  2016-01-22   98.629997  101.459999   98.370003  101.419998   96.533836   \n",
       "14  2016-01-25  101.519997  101.529999   99.209999   99.440002   94.649239   \n",
       "15  2016-01-26   99.930000  100.879997   98.070000   99.989998   95.172729   \n",
       "16  2016-01-27   96.040001   96.629997   93.339996   93.419998   88.919250   \n",
       "17  2016-01-28   93.790001   94.519997   92.389999   94.089996   89.556976   \n",
       "18  2016-01-29   94.790001   97.339996   94.349998   97.339996   92.650391   \n",
       "\n",
       "       Volume  \n",
       "0    67649400  \n",
       "1    55791000  \n",
       "2    68457400  \n",
       "3    81094400  \n",
       "4    70798000  \n",
       "5    49739400  \n",
       "6    49154200  \n",
       "7    62439600  \n",
       "8    63170100  \n",
       "9    79010000  \n",
       "10   53087700  \n",
       "11   72334400  \n",
       "12   52161500  \n",
       "13   65800500  \n",
       "14   51794500  \n",
       "15   75077000  \n",
       "16  133369700  \n",
       "17   55678800  \n",
       "18   64416500  "
      ]
     },
     "execution_count": 41,
     "metadata": {},
     "output_type": "execute_result"
    }
   ],
   "source": [
    "# 1\n",
    "rows_with_month_january = apple_stocks_16['Date'] < '2016-02'\n",
    "apple_stocks_16[rows_with_month_january]"
   ]
  },
  {
   "cell_type": "code",
   "execution_count": null,
   "id": "829f2036",
   "metadata": {},
   "outputs": [],
   "source": [
    "# 2\n"
   ]
  },
  {
   "cell_type": "markdown",
   "id": "63f29415",
   "metadata": {},
   "source": [
    "# Broadcasting"
   ]
  },
  {
   "cell_type": "code",
   "execution_count": 82,
   "id": "9e7aa1ba",
   "metadata": {},
   "outputs": [
    {
     "name": "stdout",
     "output_type": "stream",
     "text": [
      "<<Before>>\n",
      "[105.75     100.559998  98.68      98.550003  98.970001 100.550003\n",
      " 100.32      97.959999  96.199997] [102.709999 100.699997  96.449997  96.959999  98.529999  99.959999\n",
      "  97.389999  99.519997  97.129997]\n",
      "<<After percentage increase\n",
      "[116.325     110.6159978 108.548     108.4050033 108.8670011 110.6050033\n",
      " 110.352     107.7559989 105.8199967] [123.2519988 120.8399964 115.7399964 116.3519988 118.2359988 119.9519988\n",
      " 116.8679988 119.4239964 116.5559964]\n"
     ]
    }
   ],
   "source": [
    "# extract open and close column\n",
    "projection=np.broadcast_arrays(apple_stocks_16['Open'],apple_stocks_16['Close'])\n",
    "print(\"<<Before>>\")\n",
    "print(projection[0][1:10],projection[1][1:10])\n",
    "print(\"<<After percentage increase\")\n",
    "print((projection[0]*(100+10)/100)[1:10],(projection[1]*(100+20)/100)[1:10])"
   ]
  },
  {
   "cell_type": "markdown",
   "id": "9085bd95",
   "metadata": {},
   "source": [
    "# Working with Matplotlib"
   ]
  },
  {
   "cell_type": "code",
   "execution_count": 86,
   "id": "5c4f1f97",
   "metadata": {},
   "outputs": [],
   "source": [
    "import matplotlib.pyplot as plt"
   ]
  },
  {
   "cell_type": "code",
   "execution_count": 94,
   "id": "f9a1f54d",
   "metadata": {},
   "outputs": [
    {
     "data": {
      "text/plain": [
       "<Axes: >"
      ]
     },
     "execution_count": 94,
     "metadata": {},
     "output_type": "execute_result"
    },
    {
     "data": {
      "image/png": "[encoded data removed]",
      "text/plain": [
       "<Figure size 640x480 with 1 Axes>"
      ]
     },
     "metadata": {},
     "output_type": "display_data"
    }
   ],
   "source": [
    "#1\n",
    "apple_stocks_16[:40]['Volume'].plot()"
   ]
  },
  {
   "cell_type": "code",
   "execution_count": 155,
   "id": "557c6be9",
   "metadata": {},
   "outputs": [
    {
     "data": {
      "text/plain": [
       "<matplotlib.legend.Legend at 0x19ff77c3190>"
      ]
     },
     "execution_count": 155,
     "metadata": {},
     "output_type": "execute_result"
    },
    {
     "data": {
      "image/png": "[encoded data removed]",
      "text/plain": [
       "<Figure size 640x480 with 1 Axes>"
      ]
     },
     "metadata": {},
     "output_type": "display_data"
    }
   ],
   "source": [
    "newData = pd.DataFrame()\n",
    "newData['2016'] = apple_stocks_16['Open']\n",
    "newData['2017'] = apple_stocks_17_trimmed['Open']\n",
    "# newData.plot()a\n",
    "plt.plot(newData,label=['2016','2017'])\n",
    "plt.legend()"
   ]
  },
  {
   "cell_type": "markdown",
   "id": "0a67b1b5",
   "metadata": {},
   "source": [
    "# Pandas DataFrame"
   ]
  },
  {
   "cell_type": "code",
   "execution_count": 158,
   "id": "952f9129",
   "metadata": {},
   "outputs": [
    {
     "data": {
      "text/plain": [
       "<matplotlib.legend.Legend at 0x19ff77f8190>"
      ]
     },
     "execution_count": 158,
     "metadata": {},
     "output_type": "execute_result"
    },
    {
     "data": {
      "image/png": "[encoded data removed]",
      "text/plain": [
       "<Figure size 640x480 with 1 Axes>"
      ]
     },
     "metadata": {},
     "output_type": "display_data"
    }
   ],
   "source": [
    "csv_file=pd.read_csv('AAPL-2016.csv',usecols=['Date','Volume'],index_col='Date', parse_dates=True)\n",
    "plt.plot(csv_file,label=['Date','Volume'])\n",
    "plt.legend()\n",
    "# csv_file.plot()"
   ]
  },
  {
   "cell_type": "markdown",
   "id": "1e946008",
   "metadata": {},
   "source": [
    "# Pandas Series"
   ]
  },
  {
   "cell_type": "code",
   "execution_count": 170,
   "id": "a0897157",
   "metadata": {},
   "outputs": [
    {
     "data": {
      "text/plain": [
       "<Axes: >"
      ]
     },
     "execution_count": 170,
     "metadata": {},
     "output_type": "execute_result"
    },
    {
     "data": {
      "image/png": "[encoded data removed]",
      "text/plain": [
       "<Figure size 640x480 with 1 Axes>"
      ]
     },
     "metadata": {},
     "output_type": "display_data"
    }
   ],
   "source": [
    "import datetime\n",
    "csv_file=pd.read_csv('AAPL-2017.csv')\n",
    "\n",
    "date = [datetime.datetime.strptime(x,'%Y-%m-%d') for x in np.array(csv_file[\"Date\"]) ]\n",
    "data = pd.Series(np.float64(csv_file[\"Volume\"]), index=date)\n",
    "data.plot()\n",
    "# print(data.head())\n"
   ]
  },
  {
   "cell_type": "code",
   "execution_count": null,
   "id": "52a623fb",
   "metadata": {},
   "outputs": [],
   "source": []
  },
  {
   "cell_type": "code",
   "execution_count": null,
   "id": "e0f0496a",
   "metadata": {},
   "outputs": [],
   "source": []
  }
 ],
 "metadata": {
  "kernelspec": {
   "display_name": "Python 3 (ipykernel)",
   "language": "python",
   "name": "python3"
  },
  "language_info": {
   "codemirror_mode": {
    "name": "ipython",
    "version": 3
   },
   "file_extension": ".py",
   "mimetype": "text/x-python",
   "name": "python",
   "nbconvert_exporter": "python",
   "pygments_lexer": "ipython3",
   "version": "3.10.9"
  }
 },
 "nbformat": 4,
 "nbformat_minor": 5
}

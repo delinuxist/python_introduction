{
 "cells": [
  {
   "cell_type": "markdown",
   "id": "b04eb8bc",
   "metadata": {},
   "source": [
    "# Intro to python"
   ]
  },
  {
   "cell_type": "code",
   "execution_count": 2,
   "id": "fe0e9353",
   "metadata": {},
   "outputs": [
    {
     "name": "stdout",
     "output_type": "stream",
     "text": [
      "The Zen of Python, by Tim Peters\n",
      "\n",
      "Beautiful is better than ugly.\n",
      "Explicit is better than implicit.\n",
      "Simple is better than complex.\n",
      "Complex is better than complicated.\n",
      "Flat is better than nested.\n",
      "Sparse is better than dense.\n",
      "Readability counts.\n",
      "Special cases aren't special enough to break the rules.\n",
      "Although practicality beats purity.\n",
      "Errors should never pass silently.\n",
      "Unless explicitly silenced.\n",
      "In the face of ambiguity, refuse the temptation to guess.\n",
      "There should be one-- and preferably only one --obvious way to do it.\n",
      "Although that way may not be obvious at first unless you're Dutch.\n",
      "Now is better than never.\n",
      "Although never is often better than *right* now.\n",
      "If the implementation is hard to explain, it's a bad idea.\n",
      "If the implementation is easy to explain, it may be a good idea.\n",
      "Namespaces are one honking great idea -- let's do more of those!\n"
     ]
    }
   ],
   "source": [
    "import this"
   ]
  },
  {
   "cell_type": "code",
   "execution_count": 85,
   "id": "b6164b38",
   "metadata": {},
   "outputs": [
    {
     "name": "stdout",
     "output_type": "stream",
     "text": [
      "Enter a number: 0\n",
      "Enter a number greater than zero\n"
     ]
    }
   ],
   "source": [
    "# 2\n",
    "number=int(input('Enter a number: '))\n",
    "if number > 0:\n",
    "    if(number%2 == 0):\n",
    "        print(\"even number\")\n",
    "    else:\n",
    "        print(\"odd number\")\n",
    "else:\n",
    "    print(\"Enter a number greater than zero\")"
   ]
  },
  {
   "cell_type": "code",
   "execution_count": 96,
   "id": "7456dbd3",
   "metadata": {},
   "outputs": [
    {
     "name": "stdout",
     "output_type": "stream",
     "text": [
      "Emmanuel Obeng Twene\n",
      "25\n",
      "Emmanuel Obeng Twene 25\n",
      "Emmanuel Obeng Twene 25\n"
     ]
    }
   ],
   "source": [
    "# 3\n",
    "name=\"Emmanuel Obeng Twene\"\n",
    "age=25\n",
    "print(name)\n",
    "print(age)\n",
    "combined= name+\" \"+str(age)\n",
    "print(combined)\n",
    "name_age=f\"{name} {age}\"\n",
    "print(name_age)"
   ]
  },
  {
   "cell_type": "code",
   "execution_count": 105,
   "id": "bbf033c6",
   "metadata": {},
   "outputs": [
    {
     "name": "stdout",
     "output_type": "stream",
     "text": [
      "Enter a random number between 1 and 10 inclusive: 1\n",
      "Oooch try again...\n",
      "Enter a random number between 1 and 10 inclusive: 2\n",
      "Oooch try again...\n",
      "Enter a random number between 1 and 10 inclusive: 3\n",
      "perfect guess...well done\n"
     ]
    }
   ],
   "source": [
    "# 4\n",
    "import random\n",
    "rand=random.randrange(1,10)\n",
    "while True:\n",
    "    num=int(input(\"Enter a random number between 1 and 10 inclusive: \"))\n",
    "    if(rand == num):\n",
    "        print(\"perfect guess...well done\")\n",
    "        break\n",
    "    else:\n",
    "        print(\"Oooch try again...\")"
   ]
  },
  {
   "cell_type": "code",
   "execution_count": null,
   "id": "2381ce78",
   "metadata": {},
   "outputs": [],
   "source": [
    "# 5\n",
    "list=[1,4,9,16,24]\n",
    "tuple=(1,4,9,16,24)\n",
    "print(\"<<list>>\")\n",
    "for elem in list:\n",
    "    if(elem%2==0):\n",
    "        print(elem)\n",
    "print(\"<<tuple>>\")\n",
    "for elem in tuple:\n",
    "    if(elem%2==0):\n",
    "        print(elem)"
   ]
  },
  {
   "cell_type": "code",
   "execution_count": 36,
   "id": "abe3366d",
   "metadata": {},
   "outputs": [
    {
     "name": "stdout",
     "output_type": "stream",
     "text": [
      "325 years\n",
      "118625 days\n",
      "3900 months\n",
      "2847000 hours\n"
     ]
    }
   ],
   "source": [
    "# 6\n",
    "years=0\n",
    "i=1\n",
    "while i <= 25:\n",
    "    years+=i\n",
    "    i+=1\n",
    "print(years,\"years\")\n",
    "days=years*365\n",
    "months=years*12\n",
    "hours=days*24\n",
    "\n",
    "print(days,\"days\")\n",
    "print(months,\"months\")\n",
    "print(hours,\"hours\")"
   ]
  },
  {
   "cell_type": "code",
   "execution_count": 49,
   "id": "ad10034a",
   "metadata": {},
   "outputs": [
    {
     "name": "stdout",
     "output_type": "stream",
     "text": [
      "<class 'int'>\n",
      "<class 'int'>\n",
      "<class 'str'>\n",
      "<class 'complex'>\n",
      "<class 'tuple'>\n",
      "<class 'list'>\n",
      "<class 'NoneType'>\n"
     ]
    }
   ],
   "source": [
    "# 7\n",
    "\n",
    "print(type(5))\n",
    "\n",
    "print(type(5000*50000000))\n",
    "\n",
    "print(type('j'))\n",
    "\n",
    "print(type(1j))\n",
    "\n",
    "print(type((1,)))\n",
    "\n",
    "print(type([1]))\n",
    "\n",
    "print(type(None))"
   ]
  },
  {
   "cell_type": "code",
   "execution_count": 60,
   "id": "5147eb80",
   "metadata": {},
   "outputs": [
    {
     "name": "stdout",
     "output_type": "stream",
     "text": [
      "<class 'float'>\n",
      "0.30000000000000004\n",
      "0.3\n"
     ]
    }
   ],
   "source": [
    "# 8\n",
    "from decimal import Decimal\n",
    "print(type(5.551115123125787e-17))\n",
    "print( 0.1 + 0.1 + 0.1)\n",
    "print( Decimal(\".1\") + Decimal(\".1\") + Decimal(\".1\"))\n"
   ]
  },
  {
   "cell_type": "code",
   "execution_count": 121,
   "id": "94406019",
   "metadata": {},
   "outputs": [
    {
     "name": "stdout",
     "output_type": "stream",
     "text": [
      "0\n",
      "1\n",
      "1\n",
      "2\n",
      "3\n",
      "5\n",
      "8\n",
      "13\n",
      "21\n",
      "34\n",
      "55\n",
      "89\n",
      "144\n",
      "233\n",
      "377\n",
      "610\n",
      "987\n",
      "1597\n",
      "2584\n",
      "4181\n"
     ]
    }
   ],
   "source": [
    "# 9\n",
    "temp1=0\n",
    "temp2=1\n",
    "fib=0\n",
    "i=0\n",
    "while i < 20:\n",
    "    print(temp1)\n",
    "    fib=temp1+temp2\n",
    "    temp1=temp2\n",
    "    temp2=fib\n",
    "    i+=1"
   ]
  },
  {
   "cell_type": "code",
   "execution_count": 69,
   "id": "e683b62b",
   "metadata": {},
   "outputs": [
    {
     "name": "stdout",
     "output_type": "stream",
     "text": [
      "l\n",
      "<<loop>>\n",
      "E:m:m:a:n:u:e:l\n"
     ]
    }
   ],
   "source": [
    "# 10\n",
    "name=\"Emmanuel\"\n",
    "print(name[len(name)-1])\n",
    "\n",
    "print(\"<<loop>>\")\n",
    "newName=\"\"\n",
    "for elem in name:\n",
    "    if(elem == name[len(name)-1]):\n",
    "        newName+=elem\n",
    "    else:\n",
    "        newName+=elem+\":\"\n",
    "print(newName)"
   ]
  },
  {
   "cell_type": "code",
   "execution_count": 127,
   "id": "90fe9c57",
   "metadata": {},
   "outputs": [
    {
     "name": "stdout",
     "output_type": "stream",
     "text": [
      "Enter number between 1 and 8: 5\n",
      "Enter number between 1 and 8: 2\n",
      "Enter number between 1 and 8: 3\n",
      "Enter number between 1 and 8: 1\n",
      "Enter number between 1 and 8: 2\n",
      "Enter number between 1 and 8: 3\n",
      "Enter number between 1 and 8: 5\n",
      "Enter number between 1 and 8: 3\n",
      "Enter number between 1 and 8: 2\n",
      "Enter number between 1 and 8: 2\n",
      "<<loop>>\n",
      "5 was inputed 2 times\n",
      "5\n",
      "2\n",
      "3\n",
      "1\n",
      "2\n",
      "3\n",
      "5\n",
      "3\n",
      "2\n",
      "2\n"
     ]
    }
   ],
   "source": [
    "# 11\n",
    "list=[]\n",
    "count=0\n",
    "i=0\n",
    "while True:\n",
    "    num=int(input(\"Enter number between 1 and 8: \"))\n",
    "    if(num > 8 or num < 1):\n",
    "        continue\n",
    "    else:\n",
    "        i+=1\n",
    "        list.append(num)\n",
    "        if(i >= 10):\n",
    "            break\n",
    "print(\"<<loop>>\")\n",
    "print(f\"5 was inputed {list.count(5)} times\")\n",
    "for elem in list:\n",
    "    print(elem)"
   ]
  },
  {
   "cell_type": "code",
   "execution_count": 116,
   "id": "067d2cd4",
   "metadata": {},
   "outputs": [
    {
     "name": "stdout",
     "output_type": "stream",
     "text": [
      "1\n",
      "9\n",
      "25\n"
     ]
    }
   ],
   "source": [
    "# 10\n",
    "list=[1,4,9,16,25]\n",
    "for elem in list:\n",
    "    if(elem%2==0):\n",
    "        list.remove(elem)\n",
    "\n",
    "for elem in list:\n",
    "    print(elem)"
   ]
  },
  {
   "cell_type": "code",
   "execution_count": 122,
   "id": "0f9a72c6",
   "metadata": {},
   "outputs": [
    {
     "name": "stdout",
     "output_type": "stream",
     "text": [
      "10\n"
     ]
    }
   ],
   "source": [
    "# 11\n",
    "def inc(x):\n",
    "    x+=1\n",
    "    \n",
    "x=10\n",
    "inc(x)\n",
    "print(x)\n",
    "\n",
    "def f1(list1):\n",
    "    list1.append(\"!!!\")"
   ]
  },
  {
   "cell_type": "code",
   "execution_count": 126,
   "id": "1249bc6c",
   "metadata": {},
   "outputs": [
    {
     "name": "stdout",
     "output_type": "stream",
     "text": [
      "d\n",
      "a\n",
      "b\n",
      "c\n"
     ]
    }
   ],
   "source": [
    "# 12\n",
    "list=[\"a\",\"b\",\"c\",\"d\"]\n",
    "\n",
    "def takeLastElement(char):\n",
    "    list.remove(char);\n",
    "    list.reverse()\n",
    "    list.append(char)\n",
    "    list.reverse()\n",
    "    \n",
    "takeLastElement(list[len(list)-1])\n",
    "\n",
    "for elem in list:\n",
    "    print(elem)"
   ]
  },
  {
   "cell_type": "code",
   "execution_count": null,
   "id": "4778e0e1",
   "metadata": {},
   "outputs": [],
   "source": [
    "# 13\n",
    "list=[1,5,4,3]\n",
    "\n",
    "def takeIndices(list,):\n",
    "    \n",
    "    \n"
   ]
  },
  {
   "cell_type": "code",
   "execution_count": 3,
   "id": "9b96a25a",
   "metadata": {},
   "outputs": [
    {
     "name": "stdout",
     "output_type": "stream",
     "text": [
      "{'a': 2, 'b': 3, 'c': 2}\n"
     ]
    }
   ],
   "source": [
    "# 14\n",
    "def params(**kwargs):\n",
    "    dic={}\n",
    "    for key in kwargs.keys():\n",
    "        dic[key]=kwargs[key]\n",
    "    return dic\n",
    "\n",
    "result=params(a=2,b=3,c=2)\n",
    "print(result)"
   ]
  },
  {
   "cell_type": "code",
   "execution_count": 5,
   "id": "a14cfc74",
   "metadata": {},
   "outputs": [
    {
     "name": "stdout",
     "output_type": "stream",
     "text": [
      "10\n"
     ]
    }
   ],
   "source": [
    "# 15\n",
    "def acc(value,tuple):\n",
    "    sum=value\n",
    "    for i in tuple:\n",
    "        sum+=i\n",
    "    return sum\n",
    "\n",
    "result=acc(1,(1,3,5))\n",
    "print(result)\n",
    "    "
   ]
  },
  {
   "cell_type": "code",
   "execution_count": 9,
   "id": "45ca937c",
   "metadata": {},
   "outputs": [
    {
     "name": "stdout",
     "output_type": "stream",
     "text": [
      "[0, 1, 1, 2, 3, 5, 8, 13, 21, 34, 55, 89, 144, 233, 377, 610, 987, 1597, 2584, 4181, 6765, 10946, 17711, 28657, 46368, 75025, 121393, 196418, 317811, 514229, 832040, 1346269, 2178309, 3524578, 5702887, 9227465, 14930352, 24157817, 39088169, 63245986, 102334155, 165580141, 267914296, 433494437, 701408733, 1134903170, 1836311903, 2971215073, 4807526976, 7778742049, 12586269025, 20365011074, 32951280099, 53316291173, 86267571272, 139583862445, 225851433717, 365435296162, 591286729879, 956722026041, 1548008755920, 2504730781961, 4052739537881, 6557470319842, 10610209857723, 17167680177565, 27777890035288, 44945570212853, 72723460248141, 117669030460994, 190392490709135, 308061521170129, 498454011879264, 806515533049393, 1304969544928657, 2111485077978050, 3416454622906707, 5527939700884757, 8944394323791464, 14472334024676221, 23416728348467685, 37889062373143906, 61305790721611591, 99194853094755497, 160500643816367088, 259695496911122585, 420196140727489673, 679891637638612258, 1100087778366101931, 1779979416004714189, 2880067194370816120, 4660046610375530309, 7540113804746346429, 12200160415121876738, 19740274219868223167, 31940434634990099905, 51680708854858323072, 83621143489848422977, 135301852344706746049, 218922995834555169026]\n"
     ]
    }
   ],
   "source": [
    "# 16\n",
    "def fib(iterator):\n",
    "    temp=0\n",
    "    temp1=1\n",
    "    list=[]\n",
    "    for i in range(iterator):\n",
    "        list.append(temp)\n",
    "        fib=temp+temp1\n",
    "        temp=temp1\n",
    "        temp1=fib\n",
    "    return list\n",
    "\n",
    "result=fib(100)\n",
    "print(result)"
   ]
  },
  {
   "cell_type": "code",
   "execution_count": null,
   "id": "7e5c925c",
   "metadata": {},
   "outputs": [],
   "source": []
  }
 ],
 "metadata": {
  "kernelspec": {
   "display_name": "Python 3 (ipykernel)",
   "language": "python",
   "name": "python3"
  },
  "language_info": {
   "codemirror_mode": {
    "name": "ipython",
    "version": 3
   },
   "file_extension": ".py",
   "mimetype": "text/x-python",
   "name": "python",
   "nbconvert_exporter": "python",
   "pygments_lexer": "ipython3",
   "version": "3.10.9"
  }
 },
 "nbformat": 4,
 "nbformat_minor": 5
}
